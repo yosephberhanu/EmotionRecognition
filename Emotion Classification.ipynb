{
 "cells": [
  {
   "cell_type": "markdown",
   "metadata": {},
   "source": [
    "# Emotion Recognition"
   ]
  },
  {
   "cell_type": "markdown",
   "metadata": {},
   "source": [
    "In this notebook, we'll see how we can usea packagge called fer to detect emotion in a video stream from the camera"
   ]
  },
  {
   "cell_type": "code",
   "execution_count": 2,
   "metadata": {},
   "outputs": [
    {
     "name": "stdout",
     "output_type": "stream",
     "text": [
      "Requirement already satisfied: fer in /Users/yoseph/anaconda3/envs/CS5805/lib/python3.11/site-packages (22.5.1)\n",
      "Requirement already satisfied: matplotlib in /Users/yoseph/anaconda3/envs/CS5805/lib/python3.11/site-packages (from fer) (3.7.1)\n",
      "Requirement already satisfied: opencv-contrib-python in /Users/yoseph/anaconda3/envs/CS5805/lib/python3.11/site-packages (from fer) (4.8.0.76)\n",
      "Requirement already satisfied: keras>=2.0.0 in /Users/yoseph/anaconda3/envs/CS5805/lib/python3.11/site-packages (from fer) (2.12.0)\n",
      "Requirement already satisfied: pandas in /Users/yoseph/anaconda3/envs/CS5805/lib/python3.11/site-packages (from fer) (2.0.3)\n",
      "Requirement already satisfied: requests in /Users/yoseph/anaconda3/envs/CS5805/lib/python3.11/site-packages (from fer) (2.31.0)\n",
      "Requirement already satisfied: facenet-pytorch in /Users/yoseph/anaconda3/envs/CS5805/lib/python3.11/site-packages (from fer) (2.5.3)\n",
      "Requirement already satisfied: tqdm>=4.62.1 in /Users/yoseph/anaconda3/envs/CS5805/lib/python3.11/site-packages (from fer) (4.66.1)\n",
      "Requirement already satisfied: moviepy in /Users/yoseph/anaconda3/envs/CS5805/lib/python3.11/site-packages (from fer) (1.0.3)\n",
      "Requirement already satisfied: ffmpeg==1.4 in /Users/yoseph/anaconda3/envs/CS5805/lib/python3.11/site-packages (from fer) (1.4)\n",
      "Requirement already satisfied: Pillow in /Users/yoseph/anaconda3/envs/CS5805/lib/python3.11/site-packages (from fer) (9.4.0)\n",
      "Requirement already satisfied: numpy in /Users/yoseph/anaconda3/envs/CS5805/lib/python3.11/site-packages (from facenet-pytorch->fer) (1.23.5)\n",
      "Requirement already satisfied: torchvision in /Users/yoseph/anaconda3/envs/CS5805/lib/python3.11/site-packages (from facenet-pytorch->fer) (0.15.2)\n",
      "Requirement already satisfied: contourpy>=1.0.1 in /Users/yoseph/anaconda3/envs/CS5805/lib/python3.11/site-packages (from matplotlib->fer) (1.0.5)\n",
      "Requirement already satisfied: cycler>=0.10 in /Users/yoseph/anaconda3/envs/CS5805/lib/python3.11/site-packages (from matplotlib->fer) (0.11.0)\n",
      "Requirement already satisfied: fonttools>=4.22.0 in /Users/yoseph/anaconda3/envs/CS5805/lib/python3.11/site-packages (from matplotlib->fer) (4.25.0)\n",
      "Requirement already satisfied: kiwisolver>=1.0.1 in /Users/yoseph/anaconda3/envs/CS5805/lib/python3.11/site-packages (from matplotlib->fer) (1.4.4)\n",
      "Requirement already satisfied: packaging>=20.0 in /Users/yoseph/anaconda3/envs/CS5805/lib/python3.11/site-packages (from matplotlib->fer) (23.0)\n",
      "Requirement already satisfied: pyparsing>=2.3.1 in /Users/yoseph/anaconda3/envs/CS5805/lib/python3.11/site-packages (from matplotlib->fer) (3.0.9)\n",
      "Requirement already satisfied: python-dateutil>=2.7 in /Users/yoseph/anaconda3/envs/CS5805/lib/python3.11/site-packages (from matplotlib->fer) (2.8.2)\n",
      "Requirement already satisfied: decorator<5.0,>=4.0.2 in /Users/yoseph/anaconda3/envs/CS5805/lib/python3.11/site-packages (from moviepy->fer) (4.4.2)\n",
      "Requirement already satisfied: proglog<=1.0.0 in /Users/yoseph/anaconda3/envs/CS5805/lib/python3.11/site-packages (from moviepy->fer) (0.1.10)\n",
      "Requirement already satisfied: imageio<3.0,>=2.5 in /Users/yoseph/anaconda3/envs/CS5805/lib/python3.11/site-packages (from moviepy->fer) (2.31.1)\n",
      "Requirement already satisfied: imageio-ffmpeg>=0.2.0 in /Users/yoseph/anaconda3/envs/CS5805/lib/python3.11/site-packages (from moviepy->fer) (0.4.9)\n",
      "Requirement already satisfied: charset-normalizer<4,>=2 in /Users/yoseph/anaconda3/envs/CS5805/lib/python3.11/site-packages (from requests->fer) (2.0.4)\n",
      "Requirement already satisfied: idna<4,>=2.5 in /Users/yoseph/anaconda3/envs/CS5805/lib/python3.11/site-packages (from requests->fer) (3.4)\n",
      "Requirement already satisfied: urllib3<3,>=1.21.1 in /Users/yoseph/anaconda3/envs/CS5805/lib/python3.11/site-packages (from requests->fer) (1.26.16)\n",
      "Requirement already satisfied: certifi>=2017.4.17 in /Users/yoseph/anaconda3/envs/CS5805/lib/python3.11/site-packages (from requests->fer) (2023.7.22)\n",
      "Requirement already satisfied: pytz>=2020.1 in /Users/yoseph/anaconda3/envs/CS5805/lib/python3.11/site-packages (from pandas->fer) (2022.7)\n",
      "Requirement already satisfied: tzdata>=2022.1 in /Users/yoseph/anaconda3/envs/CS5805/lib/python3.11/site-packages (from pandas->fer) (2023.3)\n",
      "Requirement already satisfied: setuptools in /Users/yoseph/anaconda3/envs/CS5805/lib/python3.11/site-packages (from imageio-ffmpeg>=0.2.0->moviepy->fer) (68.0.0)\n",
      "Requirement already satisfied: six>=1.5 in /Users/yoseph/anaconda3/envs/CS5805/lib/python3.11/site-packages (from python-dateutil>=2.7->matplotlib->fer) (1.16.0)\n",
      "Requirement already satisfied: torch==2.0.1 in /Users/yoseph/anaconda3/envs/CS5805/lib/python3.11/site-packages (from torchvision->facenet-pytorch->fer) (2.0.1)\n",
      "Requirement already satisfied: filelock in /Users/yoseph/anaconda3/envs/CS5805/lib/python3.11/site-packages (from torch==2.0.1->torchvision->facenet-pytorch->fer) (3.12.4)\n",
      "Requirement already satisfied: typing-extensions in /Users/yoseph/anaconda3/envs/CS5805/lib/python3.11/site-packages (from torch==2.0.1->torchvision->facenet-pytorch->fer) (4.7.1)\n",
      "Requirement already satisfied: sympy in /Users/yoseph/anaconda3/envs/CS5805/lib/python3.11/site-packages (from torch==2.0.1->torchvision->facenet-pytorch->fer) (1.12)\n",
      "Requirement already satisfied: networkx in /Users/yoseph/anaconda3/envs/CS5805/lib/python3.11/site-packages (from torch==2.0.1->torchvision->facenet-pytorch->fer) (3.1)\n",
      "Requirement already satisfied: jinja2 in /Users/yoseph/anaconda3/envs/CS5805/lib/python3.11/site-packages (from torch==2.0.1->torchvision->facenet-pytorch->fer) (3.1.2)\n",
      "Requirement already satisfied: MarkupSafe>=2.0 in /Users/yoseph/anaconda3/envs/CS5805/lib/python3.11/site-packages (from jinja2->torch==2.0.1->torchvision->facenet-pytorch->fer) (2.1.1)\n",
      "Requirement already satisfied: mpmath>=0.19 in /Users/yoseph/anaconda3/envs/CS5805/lib/python3.11/site-packages (from sympy->torch==2.0.1->torchvision->facenet-pytorch->fer) (1.3.0)\n",
      "Note: you may need to restart the kernel to use updated packages.\n"
     ]
    }
   ],
   "source": [
    "%pip install fer"
   ]
  },
  {
   "cell_type": "markdown",
   "metadata": {},
   "source": [
    "### Do the necessary import"
   ]
  },
  {
   "cell_type": "code",
   "execution_count": null,
   "metadata": {},
   "outputs": [],
   "source": [
    "import cv2 as cv\n",
    "from fer import FER"
   ]
  },
  {
   "cell_type": "markdown",
   "metadata": {},
   "source": [
    "### Create a function to show a label on an image"
   ]
  },
  {
   "cell_type": "code",
   "execution_count": null,
   "metadata": {},
   "outputs": [],
   "source": [
    "def add_label(frame, label, x1, y1, x2, y2, color):\n",
    "  if type(label) == 'str' and label.contains('\\n'):\n",
    "    label = label.split(',')\n",
    "  frame = cv.rectangle(frame, (x1, y1), (x2, y2), color, 4)\n",
    "  \n",
    "  # The length of the longest label with 10 points per char is our lable hight \n",
    "  xl = len(max(label, key=len)) * 10\n",
    "  frame = cv.rectangle(frame, (x1, y2), ( x1 + xl , y2 + (len(label) * 20) + 4), color, -1)\n",
    "  for i, line in enumerate(label):\n",
    "    frame = cv.putText(frame, line, (x1+2, y2+20 ), cv.FONT_HERSHEY_SIMPLEX, 0.6, (255, 255, 255), 1)\n",
    "    y2 = y2 + 20\n",
    "  return frame"
   ]
  },
  {
   "cell_type": "code",
   "execution_count": 3,
   "metadata": {},
   "outputs": [],
   "source": [
    "emotion_detector = FER(mtcnn=True)\n",
    "backrounds = {\n",
    "    'angry': (150,0,0),\n",
    "    'disgust': (150,150,0),\n",
    "    'fear': (100,100,100),\n",
    "    'happy': (0,150,0),\n",
    "    'sad': (0,0,150),\n",
    "    'surprise': (0,150,150),\n",
    "    'neutral': (0,0,0)\n",
    "    }\n",
    "backround = backrounds['neutral']\n",
    "\n",
    "cap = cv.VideoCapture(0)\n",
    "if not cap.isOpened():\n",
    " print(\"Cannot open camera\")\n",
    " exit()\n",
    "while True:\n",
    "  # Capture frame-by-frame\n",
    "  ret, frame = cap.read()\n",
    "  # if frame is read correctly ret is True\n",
    "  if not ret:\n",
    "    print(\"Can't receive frame (stream end?). Exiting ...\")\n",
    "    break\n",
    "  analysis = emotion_detector.detect_emotions(frame)  \n",
    "  if analysis:\n",
    "    for face in analysis:\n",
    "      emotion = max(face['emotions'], key=face['emotions'].get)\n",
    "      x1,y1,x2,y2 = face['box'][0]-50, face['box'][1]-80,face['box'][0] + face['box'][2]+50, face['box'][1] + face['box'][3]+50\n",
    "      frame = add_label(frame, [emotion], x1, y1, x2, y2, backrounds[emotion])\n",
    "  # Display the resulting frame\n",
    "  cv.imshow('frame', frame)\n",
    "  if cv.waitKey(1) == ord('q'):\n",
    "    break\n",
    "# When everything done, release the capture\n",
    "cap.release()\n",
    "cv.destroyAllWindows()"
   ]
  },
  {
   "cell_type": "code",
   "execution_count": null,
   "metadata": {},
   "outputs": [],
   "source": []
  }
 ],
 "metadata": {
  "kernelspec": {
   "display_name": "CS5805",
   "language": "python",
   "name": "python3"
  },
  "language_info": {
   "codemirror_mode": {
    "name": "ipython",
    "version": 3
   },
   "file_extension": ".py",
   "mimetype": "text/x-python",
   "name": "python",
   "nbconvert_exporter": "python",
   "pygments_lexer": "ipython3",
   "version": "3.11.4"
  },
  "orig_nbformat": 4
 },
 "nbformat": 4,
 "nbformat_minor": 2
}
